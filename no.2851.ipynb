{
 "cells": [
  {
   "cell_type": "markdown",
   "metadata": {},
   "source": [
    "[백준 2851번](https://www.acmicpc.net/problem/2851)"
   ]
  },
  {
   "cell_type": "code",
   "execution_count": 20,
   "metadata": {},
   "outputs": [
    {
     "name": "stdin",
     "output_type": "stream",
     "text": [
      " 10\n",
      " 20\n",
      " 30\n",
      " 40\n",
      " 50\n",
      " 60\n",
      " 70\n",
      " 80\n",
      " 90\n",
      " 100\n"
     ]
    },
    {
     "name": "stdout",
     "output_type": "stream",
     "text": [
      "[10, 20, 30, 40, 50, 60, 70, 80, 90, 100]\n",
      "[10, 30, 60, 100, 150, 210, 280, 360, 450, 550]\n",
      "100\n"
     ]
    }
   ],
   "source": [
    "lst1 = []\n",
    "for i in range(10):\n",
    "    lst1.append(int(input()))\n",
    "\n",
    "total = []\n",
    "minus = []\n",
    "for i in range(10):\n",
    "    total.append(sum(lst1[0:(i+1)]))\n",
    "    minus.append(abs(100-sum(lst1[0:(i+1)])))\n",
    "\n",
    "m1 = min(minus)\n",
    "cnt = minus.count(m1)\n",
    "\n",
    "if cnt == 1 :\n",
    "    ind = minus.index(m1)\n",
    "    print(total[ind])\n",
    "elif cnt >= 2:\n",
    "    ind = minus.index(m1)+1\n",
    "    print(total[ind])    "
   ]
  },
  {
   "cell_type": "code",
   "execution_count": 15,
   "metadata": {},
   "outputs": [
    {
     "data": {
      "text/plain": [
       "1"
      ]
     },
     "execution_count": 15,
     "metadata": {},
     "output_type": "execute_result"
    }
   ],
   "source": [
    "lst = [1,2,3]\n",
    "lst.count(1)"
   ]
  },
  {
   "cell_type": "code",
   "execution_count": null,
   "metadata": {},
   "outputs": [],
   "source": []
  }
 ],
 "metadata": {
  "kernelspec": {
   "display_name": "Python 3",
   "language": "python",
   "name": "python3"
  },
  "language_info": {
   "codemirror_mode": {
    "name": "ipython",
    "version": 3
   },
   "file_extension": ".py",
   "mimetype": "text/x-python",
   "name": "python",
   "nbconvert_exporter": "python",
   "pygments_lexer": "ipython3",
   "version": "3.7.4"
  }
 },
 "nbformat": 4,
 "nbformat_minor": 4
}
