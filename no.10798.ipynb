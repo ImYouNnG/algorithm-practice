{
 "cells": [
  {
   "cell_type": "markdown",
   "metadata": {},
   "source": [
    "[백준 10798번](https://www.acmicpc.net/problem/10798)"
   ]
  },
  {
   "cell_type": "code",
   "execution_count": 38,
   "metadata": {},
   "outputs": [
    {
     "name": "stdin",
     "output_type": "stream",
     "text": [
      " AABCDD\n",
      " afzz\n",
      " 09121\n",
      " a8EWg6\n",
      " P5h3kx\n"
     ]
    },
    {
     "name": "stdout",
     "output_type": "stream",
     "text": [
      "Aa0aPAf985Bz1EhCz2W3D1gkD6x\n"
     ]
    }
   ],
   "source": [
    "lst1=[]\n",
    "for i in range(5): \n",
    "    lst1.append(input())\n",
    "#print(lst1)\n",
    "\n",
    "ind=0\n",
    "for i in range(1,len(lst1)):\n",
    "    if len(lst1[i])>=len(lst1[i-1]):\n",
    "        ind = len(lst1[i])\n",
    "#print(ind)\n",
    "lst2=[]\n",
    "for e in lst1:\n",
    "    k = int(ind-len(e))\n",
    "    lst2.append(e+' '*k)\n",
    "#print(lst2)\n",
    "\n",
    "word = ''\n",
    "for l in range(ind):\n",
    "    for j in range(5):\n",
    "        word += lst2[j][l]\n",
    "#print(word)\n",
    "print(word.replace(' ',''))"
   ]
  }
 ],
 "metadata": {
  "kernelspec": {
   "display_name": "Python 3",
   "language": "python",
   "name": "python3"
  },
  "language_info": {
   "codemirror_mode": {
    "name": "ipython",
    "version": 3
   },
   "file_extension": ".py",
   "mimetype": "text/x-python",
   "name": "python",
   "nbconvert_exporter": "python",
   "pygments_lexer": "ipython3",
   "version": "3.7.4"
  }
 },
 "nbformat": 4,
 "nbformat_minor": 4
}
