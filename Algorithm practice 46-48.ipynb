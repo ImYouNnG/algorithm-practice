{
 "cells": [
  {
   "cell_type": "markdown",
   "metadata": {},
   "source": [
    "[10250번](https://www.acmicpc.net/problem/10250)"
   ]
  },
  {
   "cell_type": "code",
   "execution_count": 2,
   "metadata": {},
   "outputs": [
    {
     "name": "stdout",
     "output_type": "stream",
     "text": [
      "1\n",
      "29 48 50\n",
      "2102\n"
     ]
    }
   ],
   "source": [
    "T=int(input())\n",
    "for i in range(T):\n",
    "    H,W,N=map(int,input().split())\n",
    "    yy=N%H\n",
    "    xx=N//H+1\n",
    "    \n",
    "    if yy==0:\n",
    "        yy=H\n",
    "        xx=xx-1\n",
    "    \n",
    "    if xx<10:\n",
    "        print(\"%d0%d\" %(yy,xx))\n",
    "    else:\n",
    "        print(\"%d%d\" %(yy,xx))"
   ]
  },
  {
   "cell_type": "markdown",
   "metadata": {},
   "source": [
    "[2775번](https://www.acmicpc.net/problem/2775)\n",
    "#### 문제\n",
    "평소 반상회에 참석하는 것을 좋아하는 주희는 이번 기회에 부녀회장이 되고 싶어 각 층의 사람들을 불러 모아 반상회를 주최하려고 한다.  \n",
    "이 아파트에 거주를 하려면 조건이 있는데, “a층의 b호에 살려면 자신의 아래(a-1)층의 1호부터 b호까지 사람들의 수의 합만큼 사람들을 데려와 살아야 한다” 는 계약 조항을 꼭 지키고 들어와야 한다.  \n",
    "아파트에 비어있는 집은 없고 모든 거주민들이 이 계약 조건을 지키고 왔다고 가정했을 때, 주어지는 양의 정수 k와 n에 대해 k층에 n호에는 몇 명이 살고 있는지 출력하라. 단, 아파트에는 0층부터 있고 각층에는 1호부터 있으며, 0층의 i호에는 i명이 산다.  \n",
    "#### 입력\n",
    "첫 번째 줄에 Test case의 수 T가 주어진다. 그리고 각각의 케이스마다 입력으로 첫 번째 줄에 정수 k, 두 번째 줄에 정수 n이 주어진다.  \n",
    "(1 <= k <= 14, 1 <= n <= 14)"
   ]
  },
  {
   "cell_type": "code",
   "execution_count": 2,
   "metadata": {},
   "outputs": [
    {
     "name": "stdout",
     "output_type": "stream",
     "text": [
      "2\n",
      "3\n",
      "5\n",
      "70\n",
      "6\n",
      "3\n",
      "36\n"
     ]
    }
   ],
   "source": [
    "T=int(input())\n",
    "\n",
    "for e in range(T):\n",
    "    k=int(input())\n",
    "    n=int(input())\n",
    "    lst_n=list(range(1,n+1))\n",
    "    result=[]\n",
    "    for i in range(k):\n",
    "        result=[]\n",
    "        for j in range(1,len(lst_n)+1):\n",
    "            result.append(sum(lst_n[:j]))\n",
    "        lst_n=result\n",
    "    print(result[-1])"
   ]
  },
  {
   "cell_type": "markdown",
   "metadata": {},
   "source": [
    "[1011번](https://www.acmicpc.net/problem/1011)"
   ]
  },
  {
   "cell_type": "code",
   "execution_count": 1,
   "metadata": {},
   "outputs": [
    {
     "name": "stdout",
     "output_type": "stream",
     "text": [
      "2\n",
      "0 5\n",
      "45 50\n",
      "4\n",
      "4\n"
     ]
    }
   ],
   "source": [
    "case_num = int(input())\n",
    "ans = []\n",
    "for i in range(case_num):\n",
    "    a, b = map(int, input().split())\n",
    "    num = b-a\n",
    "    k = 1\n",
    "    p = 1\n",
    "    while num > 0:\n",
    "        num -= k\n",
    "        k += 1\n",
    "        if num >= p:\n",
    "            num -= p\n",
    "            p += 1\n",
    "\n",
    "    ans.append(k+p-2)\n",
    "\n",
    "for i in ans:\n",
    "    print(i)"
   ]
  }
 ],
 "metadata": {
  "kernelspec": {
   "display_name": "Python 3",
   "language": "python",
   "name": "python3"
  },
  "language_info": {
   "codemirror_mode": {
    "name": "ipython",
    "version": 3
   },
   "file_extension": ".py",
   "mimetype": "text/x-python",
   "name": "python",
   "nbconvert_exporter": "python",
   "pygments_lexer": "ipython3",
   "version": "3.7.0"
  }
 },
 "nbformat": 4,
 "nbformat_minor": 4
}
