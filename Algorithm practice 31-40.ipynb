{
 "cells": [
  {
   "cell_type": "markdown",
   "metadata": {},
   "source": [
    "[11720번](https://www.acmicpc.net/problem/11720)\n",
    "#### 문제\n",
    "N개의 숫자가 공백 없이 쓰여있다. 이 숫자를 모두 합해서 출력하는 프로그램을 작성하시오."
   ]
  },
  {
   "cell_type": "code",
   "execution_count": 1,
   "metadata": {},
   "outputs": [
    {
     "name": "stdout",
     "output_type": "stream",
     "text": [
      "5\n",
      "54321\n",
      "15\n"
     ]
    }
   ],
   "source": [
    "n=int(input())\n",
    "x=int(input())\n",
    "\n",
    "def func(n,x):\n",
    "    res=[]\n",
    "    N=n+1\n",
    "    for i in range(1,N):\n",
    "        res.append(x%10**i//10**(i-1))\n",
    "        \n",
    "    return sum(res)\n",
    "\n",
    "print(func(n,x))"
   ]
  },
  {
   "cell_type": "markdown",
   "metadata": {},
   "source": [
    "[10809번](https://www.acmicpc.net/problem/10809)\n",
    "#### 문제\n",
    "알파벳 소문자로만 이루어진 단어 S가 주어진다. 각각의 알파벳에 대해서, 단어에 포함되어 있는 경우에는 처음 등장하는 위치를, 포함되어 있지 않은 경우에는 -1을 출력하는 프로그램을 작성하시오."
   ]
  },
  {
   "cell_type": "code",
   "execution_count": 2,
   "metadata": {},
   "outputs": [
    {
     "name": "stdout",
     "output_type": "stream",
     "text": [
      "baekjoon\n",
      "1 0 -1 -1 2 -1 -1 -1 -1 4 3 -1 -1 7 5 -1 -1 -1 -1 -1 -1 -1 -1 -1 -1 -1\n"
     ]
    }
   ],
   "source": [
    "alpha_list=['a', 'b', 'c', 'd', 'e', 'f', 'g', 'h', 'i', 'j', 'k', 'l', 'm', 'n', 'o', 'p', 'q', \n",
    "            'r', 's', 't', 'u', 'v', 'w', 'x', 'y', 'z']\n",
    "\n",
    "data=input()\n",
    "res=[]\n",
    "for i in range(len(alpha_list)):\n",
    "    ind=data.find(alpha_list[i])\n",
    "    res.append(ind)\n",
    "    \n",
    "print(*res)"
   ]
  },
  {
   "cell_type": "markdown",
   "metadata": {},
   "source": [
    "[2675번](https://www.acmicpc.net/problem/2675)\n",
    "#### 문제\n",
    "문자열 S를 입력받은 후에, 각 문자를 R번 반복해 새 문자열 P를 만든 후 출력하는 프로그램을 작성하시오. 즉, 첫 번째 문자를 R번 반복하고, 두 번째 문자를 R번 반복하는 식으로 P를 만들면 된다. S에는 QR Code \"alphanumeric\" 문자만 들어있다."
   ]
  },
  {
   "cell_type": "code",
   "execution_count": 3,
   "metadata": {},
   "outputs": [
    {
     "name": "stdout",
     "output_type": "stream",
     "text": [
      "2\n",
      "3 abc\n",
      "aaabbbccc\n",
      "5 /?*\n",
      "/////?????*****\n"
     ]
    }
   ],
   "source": [
    "t=int(input())\n",
    "\n",
    "def func(r,s):\n",
    "    t=''\n",
    "    for i in range(len(s)):\n",
    "        t+=s[i]*r\n",
    "    print(t)\n",
    "\n",
    "for i in range(t):\n",
    "    data=input().split()\n",
    "    r=int(data[0])\n",
    "    s=data[1]\n",
    "    func(r,s)"
   ]
  },
  {
   "cell_type": "markdown",
   "metadata": {},
   "source": [
    "[1157번](https://www.acmicpc.net/problem/1157)\n",
    "#### 문제\n",
    "알파벳 대소문자로 된 단어가 주어지면, 이 단어에서 가장 많이 사용된 알파벳이 무엇인지 알아내는 프로그램을 작성하시오. 단, 대문자와 소문자를 구분하지 않는다.\n",
    "#### 출력\n",
    "첫째 줄에 이 단어에서 가장 많이 사용된 알파벳을 대문자로 출력한다. 단, 가장 많이 사용된 알파벳이 여러 개 존재하는 경우에는 ?를 출력한다."
   ]
  },
  {
   "cell_type": "code",
   "execution_count": 4,
   "metadata": {},
   "outputs": [
    {
     "name": "stdout",
     "output_type": "stream",
     "text": [
      "Mississipi\n",
      "?\n"
     ]
    }
   ],
   "source": [
    "data=input()\n",
    "data=data.upper()\n",
    "res=[]\n",
    "\n",
    "for i in range(len(data)):\n",
    "    res.append(data[i])\n",
    "\n",
    "def remove_dup(list):\n",
    "    my_set=set()\n",
    "    res=[]\n",
    "    for e in list:\n",
    "        if e not in my_set:\n",
    "            res.append(e)\n",
    "            my_set.add(e)\n",
    "    return res\n",
    "\n",
    "res2=remove_dup(res)\n",
    "\n",
    "ct=[]\n",
    "for i in range(len(res2)):\n",
    "    ct.append(res.count(res2[i]))\n",
    "\n",
    "\n",
    "max_ct=ct.count(max(ct))\n",
    "ct_ind=ct.index(max(ct))\n",
    "\n",
    "\n",
    "if max_ct>=2:\n",
    "    print('?')\n",
    "else:\n",
    "    print(res2[ct_ind])\n"
   ]
  },
  {
   "cell_type": "markdown",
   "metadata": {},
   "source": [
    "[1152번](https://www.acmicpc.net/problem/1152)\n",
    "#### 문제\n",
    "영어 대소문자와 띄어쓰기만으로 이루어진 문자열이 주어진다. 이 문자열에는 몇 개의 단어가 있을까? 이를 구하는 프로그램을 작성하시오. 단, 한 단어가 여러 번 등장하면 등장한 횟수만큼 모두 세어야 한다."
   ]
  },
  {
   "cell_type": "code",
   "execution_count": 5,
   "metadata": {},
   "outputs": [
    {
     "name": "stdout",
     "output_type": "stream",
     "text": [
      " Mazatneunde Wae Teullyeoyo\n",
      "3\n"
     ]
    }
   ],
   "source": [
    "data=input().strip().split(' ')\n",
    "\n",
    "if '' in data:\n",
    "    data.remove('')\n",
    "else:\n",
    "    data=data\n",
    "print(len(data))"
   ]
  },
  {
   "cell_type": "markdown",
   "metadata": {},
   "source": [
    "[2908번](https://www.acmicpc.net/problem/2908)\n",
    "#### 문제\n",
    "상수는 수를 다른 사람과 다르게 거꾸로 읽는다. 예를 들어, 734과 893을 칠판에 적었다면, 상수는 이 수를 437과 398로 읽는다. 따라서, 상수는 두 수중 큰 수인 437을 큰 수라고 말할 것이다.\n",
    "두 수가 주어졌을 때, 상수의 대답을 출력하는 프로그램을 작성하시오."
   ]
  },
  {
   "cell_type": "code",
   "execution_count": 6,
   "metadata": {},
   "outputs": [
    {
     "name": "stdout",
     "output_type": "stream",
     "text": [
      "734 893\n",
      "437\n"
     ]
    }
   ],
   "source": [
    "a,b=map(int,input().split())\n",
    "\n",
    "def inv(n):\n",
    "    n1=n%10\n",
    "    n2=n//10%10\n",
    "    n3=n//100\n",
    "    N=100*n1+10*n2+n3\n",
    "    return N\n",
    "\n",
    "A=inv(a)\n",
    "B=inv(b)\n",
    "\n",
    "if A>B:\n",
    "    print(A)\n",
    "else:\n",
    "    print(B)"
   ]
  },
  {
   "cell_type": "markdown",
   "metadata": {},
   "source": [
    "[5622번](https://www.acmicpc.net/problem/5622)"
   ]
  },
  {
   "cell_type": "code",
   "execution_count": 7,
   "metadata": {},
   "outputs": [
    {
     "name": "stdout",
     "output_type": "stream",
     "text": [
      "UNUCIC\n",
      "36\n"
     ]
    }
   ],
   "source": [
    "data=input()\n",
    "res=[]\n",
    "\n",
    "for i in range(len(data)):\n",
    "    res.append(data[i])\n",
    "    \n",
    "total=0\n",
    "for e in res:\n",
    "    if e in ['A','B','C']:\n",
    "        time=3\n",
    "    elif e in ['D','E','F']:\n",
    "        time=4\n",
    "    elif e in ['G','H','I']:\n",
    "        time=5\n",
    "    elif e in ['J','K','L']:\n",
    "        time=6\n",
    "    elif e in ['M','N','O']:\n",
    "        time=7\n",
    "    elif e in ['P','Q','R','S']:\n",
    "        time=8\n",
    "    elif e in ['T','U','V']:\n",
    "        time=9\n",
    "    elif e in ['W','X','Y','Z']:\n",
    "        time=10\n",
    "        \n",
    "    total+=time\n",
    "print(total)"
   ]
  },
  {
   "cell_type": "markdown",
   "metadata": {},
   "source": [
    "[2941번](https://www.acmicpc.net/problem/2941)"
   ]
  },
  {
   "cell_type": "code",
   "execution_count": 8,
   "metadata": {},
   "outputs": [
    {
     "name": "stdout",
     "output_type": "stream",
     "text": [
      "ljes=njak\n",
      "6\n"
     ]
    }
   ],
   "source": [
    "data=input()\n",
    "cro=['c=','c-','dz=','d-','lj','nj','s=','z=']\n",
    "\n",
    "for e in cro:\n",
    "    data=data.replace(e,\"1\")\n",
    "\n",
    "print(len(data))"
   ]
  },
  {
   "cell_type": "markdown",
   "metadata": {},
   "source": [
    "[1316번](https://www.acmicpc.net/problem/1316)\n",
    "#### 문제\n",
    "그룹 단어란 단어에 존재하는 모든 문자에 대해서, 각 문자가 연속해서 나타나는 경우만을 말한다. 예를 들면, ccazzzzbb는 c, a, z, b가 모두 연속해서 나타나고, kin도 k, i, n이 연속해서 나타나기 때문에 그룹 단어이지만, aabbbccb는 b가 떨어져서 나타나기 때문에 그룹 단어가 아니다.\n",
    "\n",
    "단어 N개를 입력으로 받아 그룹 단어의 개수를 출력하는 프로그램을 작성하시오.\n",
    "\n",
    "#### 입력\n",
    "첫째 줄에 단어의 개수 N이 들어온다. N은 100보다 작거나 같은 자연수이다. 둘째 줄부터 N개의 줄에 단어가 들어온다. 단어는 알파벳 소문자로만 되어있고 중복되지 않으며, 길이는 최대 100이다."
   ]
  },
  {
   "cell_type": "code",
   "execution_count": 2,
   "metadata": {},
   "outputs": [
    {
     "name": "stdout",
     "output_type": "stream",
     "text": [
      "2\n",
      "aabbccc\n",
      "acvcc\n",
      "1\n"
     ]
    }
   ],
   "source": [
    "result = 0\n",
    "for i in range(int(input())):\n",
    "    word = input()\n",
    "    if list(word) == sorted(word, key=word.find):\n",
    "        result += 1\n",
    "print(result)"
   ]
  }
 ],
 "metadata": {
  "kernelspec": {
   "display_name": "Python 3",
   "language": "python",
   "name": "python3"
  },
  "language_info": {
   "codemirror_mode": {
    "name": "ipython",
    "version": 3
   },
   "file_extension": ".py",
   "mimetype": "text/x-python",
   "name": "python",
   "nbconvert_exporter": "python",
   "pygments_lexer": "ipython3",
   "version": "3.7.4"
  }
 },
 "nbformat": 4,
 "nbformat_minor": 2
}
