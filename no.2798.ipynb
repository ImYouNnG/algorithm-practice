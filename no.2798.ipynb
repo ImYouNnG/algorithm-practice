{
 "cells": [
  {
   "cell_type": "markdown",
   "metadata": {},
   "source": [
    "[백준 2798번](https://www.acmicpc.net/problem/2798)"
   ]
  },
  {
   "cell_type": "code",
   "execution_count": 7,
   "metadata": {},
   "outputs": [
    {
     "name": "stdin",
     "output_type": "stream",
     "text": [
      " 5 21\n",
      " 5 6 7 8 9\n"
     ]
    },
    {
     "name": "stdout",
     "output_type": "stream",
     "text": [
      "21\n"
     ]
    }
   ],
   "source": [
    "N, M = map(int, input().split())\n",
    "card = list(map(int, input().split()))\n",
    "\n",
    "card.sort(reverse=True)\n",
    "total = 0\n",
    "\n",
    "ll = len(card)\n",
    "for i in range(ll-2):\n",
    "    for j in range(i+1, ll-1):\n",
    "        for k in range(j+1, ll):\n",
    "            if card[i]+card[j]+card[k] > M:\n",
    "                continue\n",
    "            else:\n",
    "                total = max(total, card[i]+card[j]+card[k])\n",
    "                \n",
    "print(total)"
   ]
  }
 ],
 "metadata": {
  "kernelspec": {
   "display_name": "Python 3",
   "language": "python",
   "name": "python3"
  },
  "language_info": {
   "codemirror_mode": {
    "name": "ipython",
    "version": 3
   },
   "file_extension": ".py",
   "mimetype": "text/x-python",
   "name": "python",
   "nbconvert_exporter": "python",
   "pygments_lexer": "ipython3",
   "version": "3.7.4"
  }
 },
 "nbformat": 4,
 "nbformat_minor": 4
}
