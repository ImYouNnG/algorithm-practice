{
 "cells": [
  {
   "cell_type": "markdown",
   "metadata": {},
   "source": [
    "[백준 1475번](https://www.acmicpc.net/problem/1475)"
   ]
  },
  {
   "cell_type": "code",
   "execution_count": 1,
   "metadata": {},
   "outputs": [
    {
     "name": "stdout",
     "output_type": "stream",
     "text": [
      "1998\n",
      "1\n"
     ]
    }
   ],
   "source": [
    "import math\n",
    "N = int(input())\n",
    "n = str(N)\n",
    "\n",
    "lst1 = []\n",
    "for i in range(len(n)):\n",
    "    lst1.append(int(n[i]))\n",
    "\n",
    "orig = len(lst1)\n",
    "#while 6 in lst1: lst1.remove(6)\n",
    "#while 9 in lst1: lst1.remove(9)\n",
    "\n",
    "lst1 = list(filter((6).__ne__, lst1))\n",
    "lst1 = list(filter((9).__ne__, lst1))\n",
    "\n",
    "change = len(lst1)\n",
    "\n",
    "m = math.ceil((orig-change)/2)\n",
    "\n",
    "cnt = []\n",
    "for e in lst1:\n",
    "    c = lst1.count(e)\n",
    "    cnt.append(c)\n",
    "    \n",
    "print(max(max(cnt),m))"
   ]
  },
  {
   "cell_type": "markdown",
   "metadata": {},
   "source": [
    "런타임 에러가 떠서 아래와 같이 수정, dictionary 활용이 좀 더 필요."
   ]
  },
  {
   "cell_type": "code",
   "execution_count": 2,
   "metadata": {},
   "outputs": [
    {
     "name": "stdout",
     "output_type": "stream",
     "text": [
      "1998\n",
      "1\n"
     ]
    }
   ],
   "source": [
    "N = input()\n",
    "cnt = {'0':0, '1':0, '2':0, '3':0, '4':0, '5':0, '6':0, '7':0, '8':0}\n",
    "for i in range(len(N)):\n",
    "    if N[i] in ['6','9']:\n",
    "        cnt['6']+=1\n",
    "    else:\n",
    "        cnt[N[i]] +=1\n",
    "if cnt['6'] %2 ==0:\n",
    "    cnt['6'] = cnt['6']//2\n",
    "else:\n",
    "    cnt['6'] = cnt['6']//2 +1\n",
    "print(max(cnt.values()))"
   ]
  }
 ],
 "metadata": {
  "kernelspec": {
   "display_name": "Python 3",
   "language": "python",
   "name": "python3"
  },
  "language_info": {
   "codemirror_mode": {
    "name": "ipython",
    "version": 3
   },
   "file_extension": ".py",
   "mimetype": "text/x-python",
   "name": "python",
   "nbconvert_exporter": "python",
   "pygments_lexer": "ipython3",
   "version": "3.7.4"
  }
 },
 "nbformat": 4,
 "nbformat_minor": 4
}
