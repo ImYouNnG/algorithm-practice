{
 "cells": [
  {
   "cell_type": "markdown",
   "metadata": {},
   "source": [
    "[1712번](https://www.acmicpc.net/problem/1712)\n",
    "#### 문제\n",
    "월드전자는 노트북을 제조하고 판매하는 회사이다. 노트북 판매 대수에 상관없이 매년 임대료, 재산세, 보험료, 급여 등 A만원의 고정 비용이 들며, 한 대의 노트북을 생산하는 데에는 재료비와 인건비 등 총 B만원의 가변 비용이 든다고 한다.\n",
    "\n",
    "예를 들어 A=1,000, B=70이라고 하자. 이 경우 노트북을 한 대 생산하는 데는 총 1,070만원이 들며, 열 대 생산하는 데는 총 1,700만원이 든다.\n",
    "\n",
    "노트북 가격이 C만원으로 책정되었다고 한다. 일반적으로 생산 대수를 늘려 가다 보면 어느 순간 총 수입(판매비용)이 총 비용(=고정비용+가변비용)보다 많아지게 된다. 최초로 총 수입이 총 비용보다 많아져 이익이 발생하는 지점을 손익분기점(BREAK-EVEN POINT)이라고 한다.\n",
    "\n",
    "A, B, C가 주어졌을 때, 손익분기점을 구하는 프로그램을 작성하시오."
   ]
  },
  {
   "cell_type": "code",
   "execution_count": 23,
   "metadata": {},
   "outputs": [
    {
     "name": "stdout",
     "output_type": "stream",
     "text": [
      "1000 70 170\n",
      "11\n"
     ]
    }
   ],
   "source": [
    "a,b,c=map(int,input().split())\n",
    "\n",
    "if b>=c:\n",
    "    print(-1)\n",
    "else:\n",
    "    print(a//(c-b)+1)"
   ]
  },
  {
   "cell_type": "markdown",
   "metadata": {},
   "source": [
    "[2839번](https://www.acmicpc.net/problem/2839)\n",
    "#### 문제\n",
    "상근이는 요즘 설탕공장에서 설탕을 배달하고 있다. 상근이는 지금 사탕가게에 설탕을 정확하게 N킬로그램을 배달해야 한다. 설탕공장에서 만드는 설탕은 봉지에 담겨져 있다. 봉지는 3킬로그램 봉지와 5킬로그램 봉지가 있다.\n",
    "\n",
    "상근이는 귀찮기 때문에, 최대한 적은 봉지를 들고 가려고 한다. 예를 들어, 18킬로그램 설탕을 배달해야 할 때, 3킬로그램 봉지 6개를 가져가도 되지만, 5킬로그램 3개와 3킬로그램 1개를 배달하면, 더 적은 개수의 봉지를 배달할 수 있다.\n",
    "\n",
    "상근이가 설탕을 정확하게 N킬로그램 배달해야 할 때, 봉지 몇 개를 가져가면 되는지 그 수를 구하는 프로그램을 작성하시오."
   ]
  },
  {
   "cell_type": "code",
   "execution_count": 30,
   "metadata": {},
   "outputs": [
    {
     "name": "stdin",
     "output_type": "stream",
     "text": [
      " 11\n"
     ]
    },
    {
     "name": "stdout",
     "output_type": "stream",
     "text": [
      "3\n"
     ]
    }
   ],
   "source": [
    "a=int(input())\n",
    "\n",
    "def sugar_bags(a):\n",
    "    result=0\n",
    "    if(a==4 or a==7):\n",
    "        result=-1\n",
    "        return result\n",
    "    \n",
    "    rest=a%5\n",
    "    if(rest==0):result=a//5\n",
    "    elif(rest==1 or rest==3):result=a//5+1\n",
    "    elif(rest==2 or rest==4):result=a//5+2\n",
    "        \n",
    "    return result\n",
    "\n",
    "print(sugar_bags(a))"
   ]
  },
  {
   "cell_type": "markdown",
   "metadata": {},
   "source": [
    "[2292번](https://www.acmicpc.net/problem/2292)\n",
    "#### 문제\n",
    "<img src=\"https://www.acmicpc.net/JudgeOnline/upload/201009/3(2).png\" width=\"30%\">\n",
    "\n",
    "위의 그림과 같이 육각형으로 이루어진 벌집이 있다. 그림에서 보는 바와 같이 중앙의 방 1부터 시작해서 이웃하는 방에 돌아가면서 1씩 증가하는 번호를 주소로 매길 수 있다. 숫자 N이 주어졌을 때, 벌집의 중앙 1에서 N번 방까지 최소 개수의 방을 지나서 갈 때 몇 개의 방을 지나가는지(시작과 끝을 포함하여)를 계산하는 프로그램을 작성하시오. 예를 들면, 13까지는 3개, 58까지는 5개를 지난다."
   ]
  },
  {
   "cell_type": "code",
   "execution_count": 4,
   "metadata": {},
   "outputs": [
    {
     "name": "stdin",
     "output_type": "stream",
     "text": [
      " 34\n"
     ]
    },
    {
     "name": "stdout",
     "output_type": "stream",
     "text": [
      "4\n"
     ]
    }
   ],
   "source": [
    "n=int(input())\n",
    "\n",
    "rangeV=1\n",
    "loopC=1\n",
    "while n>rangeV:\n",
    "    rangeV+=loopC*6\n",
    "    loopC+=1\n",
    "print(loopC)"
   ]
  },
  {
   "cell_type": "markdown",
   "metadata": {},
   "source": [
    "##### 풀이\n",
    "몇번째 테두리에 n번 방이 포함되는지 확인해보면,  \n",
    "1번 방 = 1번째 테두리  \n",
    "2번-7번 방 = 2번째 테두리 => 2개의 방을 지나야 함  \n",
    "8번-19번 방 = 3번째 테두리 => 3개의 방을 지나야 함  \n",
    "테두리 시작 방을 확인하면, 1, 2, 8, 20,...,  \n",
    "이 중 1을 제외하면 6개씩 늘어나는 것을 알 수 있다. 6, 12, 18,...  "
   ]
  },
  {
   "cell_type": "markdown",
   "metadata": {},
   "source": [
    "[1193번](https://www.acmicpc.net/problem/1193)\n",
    "#### 문제\n",
    "이와 같이 나열된 분수들을 1/1 -> 1/2 -> 2/1 -> 3/1 -> 2/2 -> … 과 같은 지그재그 순서로 차례대로 1번, 2번, 3번, 4번, 5번, … 분수라고 하자.\n",
    "X가 주어졌을 때, X번째 분수를 구하는 프로그램을 작성하시오."
   ]
  },
  {
   "cell_type": "code",
   "execution_count": 50,
   "metadata": {},
   "outputs": [
    {
     "name": "stdin",
     "output_type": "stream",
     "text": [
      " 14\n"
     ]
    },
    {
     "name": "stdout",
     "output_type": "stream",
     "text": [
      "2/4\n"
     ]
    }
   ],
   "source": [
    "x=int(input())\n",
    "\n",
    "n=1\n",
    "rangeV=1\n",
    "\n",
    "while x>rangeV:\n",
    "    n+=1\n",
    "    rangeV=n*(n+1)/2\n",
    "    \n",
    "lst1=[]\n",
    "for i in range(1,n+1):\n",
    "    lst1.append(i)\n",
    "    \n",
    "lst2=list(reversed(lst1))\n",
    "\n",
    "k=int(x-(n-1)*n/2)\n",
    "rest=n%2\n",
    "\n",
    "if k==1 and rest==0:\n",
    "    a=lst1[-1]\n",
    "    b=lst2[-1]\n",
    "\n",
    "elif k!=1 and rest==0:\n",
    "    a=lst1[n-k]\n",
    "    b=lst2[n-k]\n",
    "\n",
    "elif rest==1:\n",
    "    a=lst1[k-1]\n",
    "    b=lst2[k-1]\n",
    "    \n",
    "print(\"%d/%d\" %(b,a))"
   ]
  },
  {
   "cell_type": "markdown",
   "metadata": {},
   "source": [
    "##### 풀이\n",
    "대각선으로 보면 n번째 줄에서 분자는 숫자 거꾸로, 분모는 차례대로 증가하는 것이 보인다.  \n",
    "짝수번째 줄과 홀수번째 줄은 따로 생각.  \n",
    "list를 굳이 만들지 않아도 되었을듯"
   ]
  },
  {
   "cell_type": "markdown",
   "metadata": {},
   "source": [
    "[2869번](https://www.acmicpc.net/problem/2869)\n",
    "#### 문제\n",
    "땅 위에 달팽이가 있다. 이 달팽이는 높이가 V미터인 나무 막대를 올라갈 것이다.  \n",
    "달팽이는 낮에 A미터 올라갈 수 있다. 하지만, 밤에 잠을 자는 동안 B미터 미끄러진다. 또, 정상에 올라간 후에는 미끄러지지 않는다.  \n",
    "달팽이가 나무 막대를 모두 올라가려면, 며칠이 걸리는지 구하는 프로그램을 작성하시오."
   ]
  },
  {
   "cell_type": "code",
   "execution_count": 4,
   "metadata": {},
   "outputs": [
    {
     "name": "stdout",
     "output_type": "stream",
     "text": [
      "3 1 7\n",
      "3\n"
     ]
    }
   ],
   "source": [
    "A,B,V=map(int,input().split())\n",
    "\n",
    "total1=0\n",
    "total2=0\n",
    "n=1\n",
    "while 1:\n",
    "    total1=int(n*A-(n-1)*B)\n",
    "    total2=int(n*(A-B))\n",
    "    total=max(total1,total2)\n",
    "    if total>=V:\n",
    "        print(n)\n",
    "        break\n",
    "    elif total1<V and total2<V:\n",
    "        n+=1\n",
    "        continue\n",
    "##시간초과"
   ]
  },
  {
   "cell_type": "code",
   "execution_count": 3,
   "metadata": {},
   "outputs": [
    {
     "name": "stdout",
     "output_type": "stream",
     "text": [
      "3 1 7\n",
      "3\n"
     ]
    }
   ],
   "source": [
    "A,B,V=map(int,input().split())\n",
    "n=(V-B)/(A-B)\n",
    "print(int(n) if n==int(n) else int(n)+1)"
   ]
  }
 ],
 "metadata": {
  "kernelspec": {
   "display_name": "Python 3",
   "language": "python",
   "name": "python3"
  },
  "language_info": {
   "codemirror_mode": {
    "name": "ipython",
    "version": 3
   },
   "file_extension": ".py",
   "mimetype": "text/x-python",
   "name": "python",
   "nbconvert_exporter": "python",
   "pygments_lexer": "ipython3",
   "version": "3.7.0"
  }
 },
 "nbformat": 4,
 "nbformat_minor": 4
}
