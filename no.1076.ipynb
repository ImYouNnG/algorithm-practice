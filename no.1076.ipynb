{
 "cells": [
  {
   "cell_type": "markdown",
   "metadata": {},
   "source": [
    "[백준 1076번](https://www.acmicpc.net/problem/1076)"
   ]
  },
  {
   "cell_type": "code",
   "execution_count": 2,
   "metadata": {},
   "outputs": [
    {
     "name": "stdin",
     "output_type": "stream",
     "text": [
      " yellow\n",
      " violet\n",
      " red\n"
     ]
    },
    {
     "name": "stdout",
     "output_type": "stream",
     "text": [
      "4700\n"
     ]
    }
   ],
   "source": [
    "dic1 = {'black':0, 'brown':1, 'red': 2, 'orange':3, 'yellow':4,\n",
    "       'green':5, 'blue':6, 'violet':7, 'grey':8, 'white':9}\n",
    "a = input()\n",
    "b = input()\n",
    "c = input()\n",
    "d = int(dic1[a])*10+int(dic1[b])\n",
    "print(d*(10**int(dic1[c])))"
   ]
  }
 ],
 "metadata": {
  "kernelspec": {
   "display_name": "Python 3",
   "language": "python",
   "name": "python3"
  },
  "language_info": {
   "codemirror_mode": {
    "name": "ipython",
    "version": 3
   },
   "file_extension": ".py",
   "mimetype": "text/x-python",
   "name": "python",
   "nbconvert_exporter": "python",
   "pygments_lexer": "ipython3",
   "version": "3.7.4"
  }
 },
 "nbformat": 4,
 "nbformat_minor": 4
}
