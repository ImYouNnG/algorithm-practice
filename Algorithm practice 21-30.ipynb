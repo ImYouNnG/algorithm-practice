{
 "cells": [
  {
   "cell_type": "markdown",
   "metadata": {},
   "source": [
    "[10818번](https://www.acmicpc.net/problem/10818)\n",
    "#### 문제\n",
    "N개의 정수가 주어진다. 이때, 최솟값과 최댓값을 구하는 프로그램을 작성하시오."
   ]
  },
  {
   "cell_type": "code",
   "execution_count": 1,
   "metadata": {},
   "outputs": [
    {
     "name": "stdout",
     "output_type": "stream",
     "text": [
      "4\n",
      "4 3 20 18\n",
      "3 20\n"
     ]
    }
   ],
   "source": [
    "a=map(int,input().split())\n",
    "arr1=list(map(int,input().split()))\n",
    "print(min(arr1),max(arr1))"
   ]
  },
  {
   "cell_type": "markdown",
   "metadata": {},
   "source": [
    "[2562번](https://www.acmicpc.net/problem/2562)\n",
    "#### 문제\n",
    "9개의 서로 다른 자연수가 주어질 때, 이들 중 최댓값을 찾고 그 최댓값이 몇 번째 수인지를 구하는 프로그램을 작성하시오.\n",
    "\n",
    "예를 들어, 서로 다른 9개의 자연수\n",
    "3, 29, 38, 12, 57, 74, 40, 85, 61\n",
    "이 주어지면, 이들 중 최댓값은 85이고, 이 값은 8번째 수이다."
   ]
  },
  {
   "cell_type": "code",
   "execution_count": 2,
   "metadata": {},
   "outputs": [
    {
     "name": "stdout",
     "output_type": "stream",
     "text": [
      "5\n",
      "32\n",
      "51\n",
      "53\n",
      "61\n",
      "8\n",
      "6\n",
      "2\n",
      "95\n",
      "95\n",
      "9\n"
     ]
    }
   ],
   "source": [
    "result=[]\n",
    "max=0\n",
    "\n",
    "for i in range(9):\n",
    "    a=int(input())\n",
    "    result.append(a)\n",
    "    if int(result[i])>max:\n",
    "        max=int(result[i])\n",
    "        maxNum=i+1\n",
    "print(max)\n",
    "print(maxNum)"
   ]
  },
  {
   "cell_type": "markdown",
   "metadata": {},
   "source": [
    "[2920번](https://www.acmicpc.net/problem/2920)\n",
    "#### 문제\n",
    "다장조는 c d e f g a b C, 총 8개 음으로 이루어져있다. 이 문제에서 8개 음은 다음과 같이 숫자로 바꾸어 표현한다. c는 1로, d는 2로, ..., C를 8로 바꾼다.\n",
    "\n",
    "1부터 8까지 차례대로 연주한다면 ascending, 8부터 1까지 차례대로 연주한다면 descending, 둘 다 아니라면 mixed 이다.\n",
    "\n",
    "연주한 순서가 주어졌을 때, 이것이 ascending인지, descending인지, 아니면 mixed인지 판별하는 프로그램을 작성하시오."
   ]
  },
  {
   "cell_type": "code",
   "execution_count": 3,
   "metadata": {},
   "outputs": [
    {
     "name": "stdout",
     "output_type": "stream",
     "text": [
      "1 2 3 4 5 6 7 8\n",
      "ascending\n"
     ]
    }
   ],
   "source": [
    "c,d,e,f,g,a,b,C=map(int,input().split())\n",
    "\n",
    "if c<d<e<f<g<a<b<C:\n",
    "    print('ascending')\n",
    "elif c>d>e>f>g>a>b>C:\n",
    "    print('descending')\n",
    "else:\n",
    "    print('mixed')"
   ]
  },
  {
   "cell_type": "markdown",
   "metadata": {},
   "source": [
    "[2577번](https://www.acmicpc.net/problem/2577)\n",
    "#### 문제\n",
    "세 개의 자연수 A, B, C가 주어질 때 A×B×C를 계산한 결과에 0부터 9까지 각각의 숫자가 몇 번씩 쓰였는지를 구하는 프로그램을 작성하시오.\n",
    "\n",
    "예를 들어 A = 150, B = 266, C = 427 이라면 \n",
    "A × B × C = 150 × 266 × 427 = 17037300 이 되고, \n",
    "계산한 결과 17037300 에는 0이 3번, 1이 1번, 3이 2번, 7이 2번 쓰였다."
   ]
  },
  {
   "cell_type": "code",
   "execution_count": 4,
   "metadata": {},
   "outputs": [
    {
     "name": "stdout",
     "output_type": "stream",
     "text": [
      "150\n",
      "266\n",
      "427\n",
      "3\n",
      "1\n",
      "0\n",
      "2\n",
      "0\n",
      "0\n",
      "0\n",
      "2\n",
      "0\n",
      "0\n"
     ]
    }
   ],
   "source": [
    "a=int(input())\n",
    "b=int(input())\n",
    "c=int(input())\n",
    "\n",
    "d=a*b*c\n",
    "\n",
    "def func(n,x):\n",
    "    res=[]\n",
    "    N=n+1\n",
    "    for i in range(1,N):\n",
    "        res.append(x%10**i//10**(i-1))\n",
    "        \n",
    "    return res\n",
    "\n",
    "if 10**6<=d<10**7:\n",
    "    result=func(7,d)\n",
    "elif 10**7<d<=10**8:\n",
    "    result=func(8,d)\n",
    "else:\n",
    "    result=func(9,d)\n",
    "\n",
    "for i in range(10):\n",
    "    print(result.count(i))"
   ]
  },
  {
   "cell_type": "markdown",
   "metadata": {},
   "source": [
    "[3052번](https://www.acmicpc.net/problem/3052)\n",
    "#### 문제\n",
    "두 자연수 A와 B가 있을 때, A%B는 A를 B로 나눈 나머지 이다. 예를 들어, 7, 14, 27, 38을 3으로 나눈 나머지는 1, 2, 0, 2이다. \n",
    "수 10개를 입력받은 뒤, 이를 42로 나눈 나머지를 구한다. 그 다음 서로 다른 값이 몇 개 있는지 출력하는 프로그램을 작성하시오."
   ]
  },
  {
   "cell_type": "code",
   "execution_count": 5,
   "metadata": {},
   "outputs": [
    {
     "name": "stdout",
     "output_type": "stream",
     "text": [
      "39\n",
      "40\n",
      "41\n",
      "42\n",
      "43\n",
      "44\n",
      "82\n",
      "83\n",
      "84\n",
      "85\n",
      "6\n"
     ]
    }
   ],
   "source": [
    "lst1=[]\n",
    "lst2=[]\n",
    "for _ in range(10):\n",
    "    lst1.append(int(input()))\n",
    "\n",
    "for e in lst1:\n",
    "    if e%42 in lst2:\n",
    "        continue\n",
    "    else:\n",
    "        lst2.append(e%42)\n",
    "\n",
    "print(len(lst2))"
   ]
  },
  {
   "cell_type": "markdown",
   "metadata": {},
   "source": [
    "[1546번](https://www.acmicpc.net/problem/1546)\n",
    "#### 문제\n",
    "세준이는 기말고사를 망쳤다. 세준이는 점수를 조작해서 집에 가져가기로 했다. 일단 세준이는 자기 점수 중에 최댓값을 골랐다. 이 값을 M이라고 한다. 그리고 나서 모든 점수를 점수/M*100 으로 고쳤다.\n",
    "예를 들어, 세준이의 최고점이 70이고, 수학점수가 50이었으면 수학점수는 50/70*100이 되어 71.43점이 된다.\n",
    "세준이의 성적을 위의 방법대로 새로 계산했을 때, 새로운 평균을 구하는 프로그램을 작성하시오."
   ]
  },
  {
   "cell_type": "code",
   "execution_count": 1,
   "metadata": {},
   "outputs": [
    {
     "name": "stdout",
     "output_type": "stream",
     "text": [
      "3\n",
      "40 70 80\n",
      "79.16666666666667\n"
     ]
    }
   ],
   "source": [
    "a=map(int,input().split())\n",
    "arr1=list(map(int,input().split()))\n",
    "\n",
    "M=max(arr1)\n",
    "\n",
    "arr2=[]\n",
    "\n",
    "for i in range(len(arr1)):\n",
    "    new=int(arr1[i])/M*100\n",
    "    arr2.append(new)\n",
    "    \n",
    "print(sum(arr2)/len(arr2))"
   ]
  },
  {
   "cell_type": "markdown",
   "metadata": {},
   "source": [
    "[8958번](https://www.acmicpc.net/problem/8958)\n",
    "#### 문제\n",
    "\"OOXXOXXOOO\"와 같은 OX퀴즈의 결과가 있다. O는 문제를 맞은 것이고, X는 문제를 틀린 것이다. 문제를 맞은 경우 그 문제의 점수는 그 문제까지 연속된 O의 개수가 된다. 예를 들어, 10번 문제의 점수는 3이 된다.\n",
    "\n",
    "\"OOXXOXXOOO\"의 점수는 1+2+0+0+1+0+0+1+2+3 = 10점이다.\n",
    "OX퀴즈의 결과가 주어졌을 때, 점수를 구하는 프로그램을 작성하시오."
   ]
  },
  {
   "cell_type": "code",
   "execution_count": 9,
   "metadata": {},
   "outputs": [
    {
     "name": "stdout",
     "output_type": "stream",
     "text": [
      "2\n",
      "OOXOOXOXOX\n",
      "XOXOXOOXX\n",
      "8\n",
      "5\n"
     ]
    }
   ],
   "source": [
    "a=int(input())\n",
    "lst1=[]\n",
    "\n",
    "for _ in range(a):\n",
    "    lst1.append(input())\n",
    "    \n",
    "for line in lst1:\n",
    "    sum=0\n",
    "    i=0\n",
    "    for e in line:\n",
    "        if e=='X':\n",
    "            i=0\n",
    "        else:\n",
    "            i+=1\n",
    "            sum+=i\n",
    "    print(sum)"
   ]
  },
  {
   "cell_type": "markdown",
   "metadata": {},
   "source": [
    "[4344번](https://www.acmicpc.net/problem/4344)\n",
    "#### 입력\n",
    "첫째 줄에는 테스트 케이스의 개수 C가 주어진다.\n",
    "둘째 줄부터 각 테스트 케이스마다 학생의 수 N(1 ≤ N ≤ 1000, N은 정수)이 첫 수로 주어지고, 이어서 N명의 점수가 주어진다. 점수는 0보다 크거나 같고, 100보다 작거나 같은 정수이다.\n",
    "#### 출력\n",
    "각 케이스마다 한 줄씩 평균을 넘는 학생들의 비율을 반올림하여 소수점 셋째 자리까지 출력한다."
   ]
  },
  {
   "cell_type": "code",
   "execution_count": 2,
   "metadata": {},
   "outputs": [
    {
     "name": "stdout",
     "output_type": "stream",
     "text": [
      "2\n",
      "10 40 50\n",
      "20.000%\n",
      "30 90 60\n",
      "6.667%\n"
     ]
    }
   ],
   "source": [
    "a=int(input())\n",
    "\n",
    "for i in range(a):\n",
    "    A=list(map(int,input().split()))\n",
    "    average=float(sum(A[1:]))/float(A[0])\n",
    "    count=0\n",
    "    for j in A[1:]:\n",
    "        if j>average:\n",
    "            count+=1\n",
    "            \n",
    "    print(\"%0.3f%%\"%round(float(100*count)/float(A[0]),3))"
   ]
  },
  {
   "cell_type": "markdown",
   "metadata": {},
   "source": [
    "[15596번](https://www.acmicpc.net/problem/15596)\n",
    "#### 문제\n",
    "정수 n개가 주어졌을 때, n개의 합을 구하는 함수를 작성하시오."
   ]
  },
  {
   "cell_type": "code",
   "execution_count": 3,
   "metadata": {},
   "outputs": [
    {
     "data": {
      "text/plain": [
       "9"
      ]
     },
     "execution_count": 3,
     "metadata": {},
     "output_type": "execute_result"
    }
   ],
   "source": [
    "def solve(a):\n",
    "    total=sum(a)\n",
    "    return total\n",
    "\n",
    "solve([2,3,4])"
   ]
  },
  {
   "cell_type": "markdown",
   "metadata": {},
   "source": [
    "[11654번](https://www.acmicpc.net/problem/11654)\n",
    "#### 문제\n",
    "알파벳 소문자, 대문자, 숫자 0-9중 하나가 주어졌을 때, 주어진 글자의 아스키 코드값을 출력하는 프로그램을 작성하시오."
   ]
  },
  {
   "cell_type": "code",
   "execution_count": 13,
   "metadata": {},
   "outputs": [
    {
     "name": "stdout",
     "output_type": "stream",
     "text": [
      "A\n",
      "65\n"
     ]
    }
   ],
   "source": [
    "data=input()\n",
    "print(ord(data))"
   ]
  }
 ],
 "metadata": {
  "kernelspec": {
   "display_name": "Python 3",
   "language": "python",
   "name": "python3"
  },
  "language_info": {
   "codemirror_mode": {
    "name": "ipython",
    "version": 3
   },
   "file_extension": ".py",
   "mimetype": "text/x-python",
   "name": "python",
   "nbconvert_exporter": "python",
   "pygments_lexer": "ipython3",
   "version": "3.7.4"
  }
 },
 "nbformat": 4,
 "nbformat_minor": 2
}
