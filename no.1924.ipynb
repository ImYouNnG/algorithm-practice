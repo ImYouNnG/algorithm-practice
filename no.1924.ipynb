{
 "cells": [
  {
   "cell_type": "markdown",
   "metadata": {},
   "source": [
    "[백준 1924번](https://www.acmicpc.net/problem/1924)"
   ]
  },
  {
   "cell_type": "code",
   "execution_count": 22,
   "metadata": {},
   "outputs": [
    {
     "name": "stdin",
     "output_type": "stream",
     "text": [
      " 12 25\n"
     ]
    },
    {
     "name": "stdout",
     "output_type": "stream",
     "text": [
      "TUE\n"
     ]
    }
   ],
   "source": [
    "x, y = map(int, input().split())\n",
    "when = dict(zip([1,2,3,4,5,6,0],\n",
    "                ['MON','TUE','WED','THU','FRI', 'SAT', 'SUN']))\n",
    "\n",
    "month = dict(zip([1,2,3,4,5,6,7,8,9,10,11,12],\n",
    "               [31,28, 31, 30, 31, 30, 31,31,30,31,30,31]))\n",
    "\n",
    "total = 0\n",
    "for i in range(1,x):\n",
    "    total += month[i]\n",
    "\n",
    "day = total + y\n",
    "DAY = day%7\n",
    "\n",
    "print(when[DAY])"
   ]
  }
 ],
 "metadata": {
  "kernelspec": {
   "display_name": "Python 3",
   "language": "python",
   "name": "python3"
  },
  "language_info": {
   "codemirror_mode": {
    "name": "ipython",
    "version": 3
   },
   "file_extension": ".py",
   "mimetype": "text/x-python",
   "name": "python",
   "nbconvert_exporter": "python",
   "pygments_lexer": "ipython3",
   "version": "3.7.4"
  }
 },
 "nbformat": 4,
 "nbformat_minor": 4
}
