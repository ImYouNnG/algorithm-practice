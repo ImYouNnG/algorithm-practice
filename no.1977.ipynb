{
 "cells": [
  {
   "cell_type": "markdown",
   "metadata": {},
   "source": [
    "[백준 1977번](https://www.acmicpc.net/problem/1977)"
   ]
  },
  {
   "cell_type": "code",
   "execution_count": 1,
   "metadata": {},
   "outputs": [
    {
     "name": "stdin",
     "output_type": "stream",
     "text": [
      " 60\n",
      " 100\n"
     ]
    },
    {
     "name": "stdout",
     "output_type": "stream",
     "text": [
      "245\n",
      "64\n"
     ]
    }
   ],
   "source": [
    "M = int(input())\n",
    "N = int(input())\n",
    "\n",
    "start = 1\n",
    "lst = []\n",
    "while 1:\n",
    "    sq = int(start**2)\n",
    "    if sq < M :\n",
    "        start += 1\n",
    "    elif sq >= M and sq <= N:\n",
    "        lst.append(sq)\n",
    "        start += 1\n",
    "    elif sq > N:\n",
    "        break\n",
    "\n",
    "if len(lst)==0: print(-1)\n",
    "elif len(lst)>0:\n",
    "    print(sum(lst))\n",
    "    print(min(lst))"
   ]
  }
 ],
 "metadata": {
  "kernelspec": {
   "display_name": "Python 3",
   "language": "python",
   "name": "python3"
  },
  "language_info": {
   "codemirror_mode": {
    "name": "ipython",
    "version": 3
   },
   "file_extension": ".py",
   "mimetype": "text/x-python",
   "name": "python",
   "nbconvert_exporter": "python",
   "pygments_lexer": "ipython3",
   "version": "3.7.4"
  }
 },
 "nbformat": 4,
 "nbformat_minor": 4
}
