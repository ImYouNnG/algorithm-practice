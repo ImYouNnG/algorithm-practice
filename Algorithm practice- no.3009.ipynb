{
 "cells": [
  {
   "cell_type": "markdown",
   "metadata": {},
   "source": [
    "[백준(3009번)](https://www.acmicpc.net/problem/3009)\n",
    "#### 문제\n",
    "세 점이 주어졌을 때, 축에 평행한 직사각형을 만들기 위해서 필요한 네 번째 점을 찾는 프로그램을 작성하시오."
   ]
  },
  {
   "cell_type": "code",
   "execution_count": 2,
   "metadata": {},
   "outputs": [
    {
     "name": "stdin",
     "output_type": "stream",
     "text": [
      " 30 20\n",
      " 10 10\n",
      " 10 20\n"
     ]
    },
    {
     "name": "stdout",
     "output_type": "stream",
     "text": [
      "30 10\n"
     ]
    }
   ],
   "source": [
    "x1,y1=map(int,input().split())\n",
    "x2,y2=map(int,input().split())\n",
    "x3,y3=map(int,input().split())\n",
    "\n",
    "if x1==x2: x4=x3\n",
    "elif x1==x3 : x4=x2\n",
    "elif x2==x3: x4=x1\n",
    "    \n",
    "if y1==y2: y4=y3\n",
    "elif y1==y3: y4=y2\n",
    "elif y2==x3: y4=y1\n",
    "\n",
    "print(x4, y4)"
   ]
  },
  {
   "cell_type": "markdown",
   "metadata": {},
   "source": [
    "단순히 조건으로 찾으려했더니 런타임에러 발생.  \n",
    "아래 코드로 제출했더니 성공."
   ]
  },
  {
   "cell_type": "code",
   "execution_count": 4,
   "metadata": {},
   "outputs": [
    {
     "name": "stdin",
     "output_type": "stream",
     "text": [
      " 30 20\n",
      " 10 10\n",
      " 10 20\n"
     ]
    },
    {
     "name": "stdout",
     "output_type": "stream",
     "text": [
      "30 10\n"
     ]
    }
   ],
   "source": [
    "x1,y1=map(int,input().split())\n",
    "x2,y2=map(int,input().split())\n",
    "x3,y3=map(int,input().split())\n",
    "\n",
    "lst1=[x1,x2,x3]\n",
    "lst2=[y1,y2,y3]\n",
    "\n",
    "for k in lst1:\n",
    "    if lst1.count(k)==1:\n",
    "        x4=k\n",
    "for z in lst2:\n",
    "    if lst2.count(z)==1:\n",
    "        y4=z\n",
    "print(x4, y4)"
   ]
  }
 ],
 "metadata": {
  "kernelspec": {
   "display_name": "Python 3",
   "language": "python",
   "name": "python3"
  },
  "language_info": {
   "codemirror_mode": {
    "name": "ipython",
    "version": 3
   },
   "file_extension": ".py",
   "mimetype": "text/x-python",
   "name": "python",
   "nbconvert_exporter": "python",
   "pygments_lexer": "ipython3",
   "version": "3.7.4"
  }
 },
 "nbformat": 4,
 "nbformat_minor": 4
}
