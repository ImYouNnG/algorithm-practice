{
 "cells": [
  {
   "cell_type": "markdown",
   "metadata": {},
   "source": [
    "[백준 8979번](https://www.acmicpc.net/problem/8979)"
   ]
  },
  {
   "cell_type": "code",
   "execution_count": 41,
   "metadata": {},
   "outputs": [
    {
     "name": "stdin",
     "output_type": "stream",
     "text": [
      " 4 2\n",
      " 1 3 0 0\n",
      " 3 0 0 2\n",
      " 4 0 2 0\n",
      " 2 0 2 0\n"
     ]
    },
    {
     "name": "stdout",
     "output_type": "stream",
     "text": [
      "2\n"
     ]
    }
   ],
   "source": [
    "N, K = map(int, input().split())\n",
    "medal = []\n",
    "for i in range(N):\n",
    "    medal.append(list(map(int, input().split())))\n",
    "\n",
    "dic1 = {}\n",
    "for j in range(len(medal)):\n",
    "    key1 = medal[j][0]\n",
    "    dic1[key1] = medal[j][1:4]\n",
    "\n",
    "rank = 0\n",
    "\n",
    "for i in dic1.keys():\n",
    "    a = dic1[i][0]-dic1[K][0]\n",
    "    b = dic1[i][1]-dic1[K][1]\n",
    "    c = dic1[i][2]-dic1[K][2]\n",
    "    \n",
    "    if a>0 : \n",
    "        rank += 1\n",
    "    elif a == 0 and b>0 :\n",
    "        rank += 1\n",
    "    elif a ==0 and b == 0 and c >0 :\n",
    "        rank += 1\n",
    "    elif a == 0 and b == 0 and c==0:\n",
    "        rank += 0\n",
    "    else:\n",
    "        rank += 0\n",
    "print(rank+1)"
   ]
  }
 ],
 "metadata": {
  "kernelspec": {
   "display_name": "Python 3",
   "language": "python",
   "name": "python3"
  },
  "language_info": {
   "codemirror_mode": {
    "name": "ipython",
    "version": 3
   },
   "file_extension": ".py",
   "mimetype": "text/x-python",
   "name": "python",
   "nbconvert_exporter": "python",
   "pygments_lexer": "ipython3",
   "version": "3.7.4"
  }
 },
 "nbformat": 4,
 "nbformat_minor": 4
}
